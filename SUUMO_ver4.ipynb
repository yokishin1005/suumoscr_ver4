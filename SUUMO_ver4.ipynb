{
 "cells": [
  {
   "cell_type": "code",
   "execution_count": 1,
   "metadata": {},
   "outputs": [
    {
     "name": "stdout",
     "output_type": "stream",
     "text": [
      "0\n",
      "https://suumo.jp/jj/chintai/ichiran/FR301FC001/?ar=030&bs=040&ra=013&cb=0.0&ct=20.0&et=5&md=05&md=06&md=07&md=08&md=09&md=10&md=11&md=12&md=13&md=14&cn=9999999&mb=0&mt=9999999&shkr1=03&shkr2=03&shkr3=03&shkr4=03&fw2=&rn=0005&ek=012505180&ek=012504030&ek=012506530&ek=012510270&ek=012540650&ek=012520110&ek=012531160&ek=012523500&ek=012584570&ek=012517460&ek=012505480&ek=012508940&rn=0125&rn=0160&rn=0010&rn=0015&rn=0020&rn=0025&rn=0030&rn=0040&page=1\n",
      "30\n",
      "https://suumo.jp/jj/chintai/ichiran/FR301FC001/?ar=030&bs=040&ra=013&cb=0.0&ct=20.0&et=5&md=05&md=06&md=07&md=08&md=09&md=10&md=11&md=12&md=13&md=14&cn=9999999&mb=0&mt=9999999&shkr1=03&shkr2=03&shkr3=03&shkr4=03&fw2=&rn=0005&ek=012505180&ek=012504030&ek=012506530&ek=012510270&ek=012540650&ek=012520110&ek=012531160&ek=012523500&ek=012584570&ek=012517460&ek=012505480&ek=012508940&rn=0125&rn=0160&rn=0010&rn=0015&rn=0020&rn=0025&rn=0030&rn=0040&page=2\n",
      "60\n",
      "https://suumo.jp/jj/chintai/ichiran/FR301FC001/?ar=030&bs=040&ra=013&cb=0.0&ct=20.0&et=5&md=05&md=06&md=07&md=08&md=09&md=10&md=11&md=12&md=13&md=14&cn=9999999&mb=0&mt=9999999&shkr1=03&shkr2=03&shkr3=03&shkr4=03&fw2=&rn=0005&ek=012505180&ek=012504030&ek=012506530&ek=012510270&ek=012540650&ek=012520110&ek=012531160&ek=012523500&ek=012584570&ek=012517460&ek=012505480&ek=012508940&rn=0125&rn=0160&rn=0010&rn=0015&rn=0020&rn=0025&rn=0030&rn=0040&page=3\n",
      "90\n",
      "https://suumo.jp/jj/chintai/ichiran/FR301FC001/?ar=030&bs=040&ra=013&cb=0.0&ct=20.0&et=5&md=05&md=06&md=07&md=08&md=09&md=10&md=11&md=12&md=13&md=14&cn=9999999&mb=0&mt=9999999&shkr1=03&shkr2=03&shkr3=03&shkr4=03&fw2=&rn=0005&ek=012505180&ek=012504030&ek=012506530&ek=012510270&ek=012540650&ek=012520110&ek=012531160&ek=012523500&ek=012584570&ek=012517460&ek=012505480&ek=012508940&rn=0125&rn=0160&rn=0010&rn=0015&rn=0020&rn=0025&rn=0030&rn=0040&page=4\n",
      "120\n",
      "https://suumo.jp/jj/chintai/ichiran/FR301FC001/?ar=030&bs=040&ra=013&cb=0.0&ct=20.0&et=5&md=05&md=06&md=07&md=08&md=09&md=10&md=11&md=12&md=13&md=14&cn=9999999&mb=0&mt=9999999&shkr1=03&shkr2=03&shkr3=03&shkr4=03&fw2=&rn=0005&ek=012505180&ek=012504030&ek=012506530&ek=012510270&ek=012540650&ek=012520110&ek=012531160&ek=012523500&ek=012584570&ek=012517460&ek=012505480&ek=012508940&rn=0125&rn=0160&rn=0010&rn=0015&rn=0020&rn=0025&rn=0030&rn=0040&page=5\n",
      "150\n",
      "https://suumo.jp/jj/chintai/ichiran/FR301FC001/?ar=030&bs=040&ra=013&cb=0.0&ct=20.0&et=5&md=05&md=06&md=07&md=08&md=09&md=10&md=11&md=12&md=13&md=14&cn=9999999&mb=0&mt=9999999&shkr1=03&shkr2=03&shkr3=03&shkr4=03&fw2=&rn=0005&ek=012505180&ek=012504030&ek=012506530&ek=012510270&ek=012540650&ek=012520110&ek=012531160&ek=012523500&ek=012584570&ek=012517460&ek=012505480&ek=012508940&rn=0125&rn=0160&rn=0010&rn=0015&rn=0020&rn=0025&rn=0030&rn=0040&page=6\n",
      "180\n",
      "https://suumo.jp/jj/chintai/ichiran/FR301FC001/?ar=030&bs=040&ra=013&cb=0.0&ct=20.0&et=5&md=05&md=06&md=07&md=08&md=09&md=10&md=11&md=12&md=13&md=14&cn=9999999&mb=0&mt=9999999&shkr1=03&shkr2=03&shkr3=03&shkr4=03&fw2=&rn=0005&ek=012505180&ek=012504030&ek=012506530&ek=012510270&ek=012540650&ek=012520110&ek=012531160&ek=012523500&ek=012584570&ek=012517460&ek=012505480&ek=012508940&rn=0125&rn=0160&rn=0010&rn=0015&rn=0020&rn=0025&rn=0030&rn=0040&page=7\n",
      "210\n",
      "https://suumo.jp/jj/chintai/ichiran/FR301FC001/?ar=030&bs=040&ra=013&cb=0.0&ct=20.0&et=5&md=05&md=06&md=07&md=08&md=09&md=10&md=11&md=12&md=13&md=14&cn=9999999&mb=0&mt=9999999&shkr1=03&shkr2=03&shkr3=03&shkr4=03&fw2=&rn=0005&ek=012505180&ek=012504030&ek=012506530&ek=012510270&ek=012540650&ek=012520110&ek=012531160&ek=012523500&ek=012584570&ek=012517460&ek=012505480&ek=012508940&rn=0125&rn=0160&rn=0010&rn=0015&rn=0020&rn=0025&rn=0030&rn=0040&page=8\n",
      "240\n",
      "https://suumo.jp/jj/chintai/ichiran/FR301FC001/?ar=030&bs=040&ra=013&cb=0.0&ct=20.0&et=5&md=05&md=06&md=07&md=08&md=09&md=10&md=11&md=12&md=13&md=14&cn=9999999&mb=0&mt=9999999&shkr1=03&shkr2=03&shkr3=03&shkr4=03&fw2=&rn=0005&ek=012505180&ek=012504030&ek=012506530&ek=012510270&ek=012540650&ek=012520110&ek=012531160&ek=012523500&ek=012584570&ek=012517460&ek=012505480&ek=012508940&rn=0125&rn=0160&rn=0010&rn=0015&rn=0020&rn=0025&rn=0030&rn=0040&page=9\n",
      "270\n",
      "https://suumo.jp/jj/chintai/ichiran/FR301FC001/?ar=030&bs=040&ra=013&cb=0.0&ct=20.0&et=5&md=05&md=06&md=07&md=08&md=09&md=10&md=11&md=12&md=13&md=14&cn=9999999&mb=0&mt=9999999&shkr1=03&shkr2=03&shkr3=03&shkr4=03&fw2=&rn=0005&ek=012505180&ek=012504030&ek=012506530&ek=012510270&ek=012540650&ek=012520110&ek=012531160&ek=012523500&ek=012584570&ek=012517460&ek=012505480&ek=012508940&rn=0125&rn=0160&rn=0010&rn=0015&rn=0020&rn=0025&rn=0030&rn=0040&page=10\n",
      "300\n",
      "https://suumo.jp/jj/chintai/ichiran/FR301FC001/?ar=030&bs=040&ra=013&cb=0.0&ct=20.0&et=5&md=05&md=06&md=07&md=08&md=09&md=10&md=11&md=12&md=13&md=14&cn=9999999&mb=0&mt=9999999&shkr1=03&shkr2=03&shkr3=03&shkr4=03&fw2=&rn=0005&ek=012505180&ek=012504030&ek=012506530&ek=012510270&ek=012540650&ek=012520110&ek=012531160&ek=012523500&ek=012584570&ek=012517460&ek=012505480&ek=012508940&rn=0125&rn=0160&rn=0010&rn=0015&rn=0020&rn=0025&rn=0030&rn=0040&page=11\n",
      "330\n",
      "https://suumo.jp/jj/chintai/ichiran/FR301FC001/?ar=030&bs=040&ra=013&cb=0.0&ct=20.0&et=5&md=05&md=06&md=07&md=08&md=09&md=10&md=11&md=12&md=13&md=14&cn=9999999&mb=0&mt=9999999&shkr1=03&shkr2=03&shkr3=03&shkr4=03&fw2=&rn=0005&ek=012505180&ek=012504030&ek=012506530&ek=012510270&ek=012540650&ek=012520110&ek=012531160&ek=012523500&ek=012584570&ek=012517460&ek=012505480&ek=012508940&rn=0125&rn=0160&rn=0010&rn=0015&rn=0020&rn=0025&rn=0030&rn=0040&page=12\n",
      "360\n",
      "https://suumo.jp/jj/chintai/ichiran/FR301FC001/?ar=030&bs=040&ra=013&cb=0.0&ct=20.0&et=5&md=05&md=06&md=07&md=08&md=09&md=10&md=11&md=12&md=13&md=14&cn=9999999&mb=0&mt=9999999&shkr1=03&shkr2=03&shkr3=03&shkr4=03&fw2=&rn=0005&ek=012505180&ek=012504030&ek=012506530&ek=012510270&ek=012540650&ek=012520110&ek=012531160&ek=012523500&ek=012584570&ek=012517460&ek=012505480&ek=012508940&rn=0125&rn=0160&rn=0010&rn=0015&rn=0020&rn=0025&rn=0030&rn=0040&page=13\n",
      "390\n",
      "https://suumo.jp/jj/chintai/ichiran/FR301FC001/?ar=030&bs=040&ra=013&cb=0.0&ct=20.0&et=5&md=05&md=06&md=07&md=08&md=09&md=10&md=11&md=12&md=13&md=14&cn=9999999&mb=0&mt=9999999&shkr1=03&shkr2=03&shkr3=03&shkr4=03&fw2=&rn=0005&ek=012505180&ek=012504030&ek=012506530&ek=012510270&ek=012540650&ek=012520110&ek=012531160&ek=012523500&ek=012584570&ek=012517460&ek=012505480&ek=012508940&rn=0125&rn=0160&rn=0010&rn=0015&rn=0020&rn=0025&rn=0030&rn=0040&page=14\n",
      "420\n",
      "https://suumo.jp/jj/chintai/ichiran/FR301FC001/?ar=030&bs=040&ra=013&cb=0.0&ct=20.0&et=5&md=05&md=06&md=07&md=08&md=09&md=10&md=11&md=12&md=13&md=14&cn=9999999&mb=0&mt=9999999&shkr1=03&shkr2=03&shkr3=03&shkr4=03&fw2=&rn=0005&ek=012505180&ek=012504030&ek=012506530&ek=012510270&ek=012540650&ek=012520110&ek=012531160&ek=012523500&ek=012584570&ek=012517460&ek=012505480&ek=012508940&rn=0125&rn=0160&rn=0010&rn=0015&rn=0020&rn=0025&rn=0030&rn=0040&page=15\n",
      "450\n",
      "https://suumo.jp/jj/chintai/ichiran/FR301FC001/?ar=030&bs=040&ra=013&cb=0.0&ct=20.0&et=5&md=05&md=06&md=07&md=08&md=09&md=10&md=11&md=12&md=13&md=14&cn=9999999&mb=0&mt=9999999&shkr1=03&shkr2=03&shkr3=03&shkr4=03&fw2=&rn=0005&ek=012505180&ek=012504030&ek=012506530&ek=012510270&ek=012540650&ek=012520110&ek=012531160&ek=012523500&ek=012584570&ek=012517460&ek=012505480&ek=012508940&rn=0125&rn=0160&rn=0010&rn=0015&rn=0020&rn=0025&rn=0030&rn=0040&page=16\n",
      "480\n",
      "https://suumo.jp/jj/chintai/ichiran/FR301FC001/?ar=030&bs=040&ra=013&cb=0.0&ct=20.0&et=5&md=05&md=06&md=07&md=08&md=09&md=10&md=11&md=12&md=13&md=14&cn=9999999&mb=0&mt=9999999&shkr1=03&shkr2=03&shkr3=03&shkr4=03&fw2=&rn=0005&ek=012505180&ek=012504030&ek=012506530&ek=012510270&ek=012540650&ek=012520110&ek=012531160&ek=012523500&ek=012584570&ek=012517460&ek=012505480&ek=012508940&rn=0125&rn=0160&rn=0010&rn=0015&rn=0020&rn=0025&rn=0030&rn=0040&page=17\n",
      "510\n",
      "https://suumo.jp/jj/chintai/ichiran/FR301FC001/?ar=030&bs=040&ra=013&cb=0.0&ct=20.0&et=5&md=05&md=06&md=07&md=08&md=09&md=10&md=11&md=12&md=13&md=14&cn=9999999&mb=0&mt=9999999&shkr1=03&shkr2=03&shkr3=03&shkr4=03&fw2=&rn=0005&ek=012505180&ek=012504030&ek=012506530&ek=012510270&ek=012540650&ek=012520110&ek=012531160&ek=012523500&ek=012584570&ek=012517460&ek=012505480&ek=012508940&rn=0125&rn=0160&rn=0010&rn=0015&rn=0020&rn=0025&rn=0030&rn=0040&page=18\n",
      "540\n",
      "https://suumo.jp/jj/chintai/ichiran/FR301FC001/?ar=030&bs=040&ra=013&cb=0.0&ct=20.0&et=5&md=05&md=06&md=07&md=08&md=09&md=10&md=11&md=12&md=13&md=14&cn=9999999&mb=0&mt=9999999&shkr1=03&shkr2=03&shkr3=03&shkr4=03&fw2=&rn=0005&ek=012505180&ek=012504030&ek=012506530&ek=012510270&ek=012540650&ek=012520110&ek=012531160&ek=012523500&ek=012584570&ek=012517460&ek=012505480&ek=012508940&rn=0125&rn=0160&rn=0010&rn=0015&rn=0020&rn=0025&rn=0030&rn=0040&page=19\n"
     ]
    }
   ],
   "source": [
    "from time import sleep\n",
    "from bs4 import BeautifulSoup\n",
    "import requests\n",
    "import pandas as pd\n",
    "\n",
    "#変数urlにSUUMOホームページをのURLを格納する\n",
    "url='https://suumo.jp/jj/chintai/ichiran/FR301FC001/?ar=030&bs=040&ra=013&cb=0.0&ct=20.0&et=5&md=05&md=06&md=07&md=08&md=09&md=10&md=11&md=12&md=13&md=14&cn=9999999&mb=0&mt=9999999&shkr1=03&shkr2=03&shkr3=03&shkr4=03&fw2=&rn=0005&ek=012505180&ek=012504030&ek=012506530&ek=012510270&ek=012540650&ek=012520110&ek=012531160&ek=012523500&ek=012584570&ek=012517460&ek=012505480&ek=012508940&rn=0125&rn=0160&rn=0010&rn=0015&rn=0020&rn=0025&rn=0030&rn=0040&page={}'\n",
    "\n",
    "#リストを作成\n",
    "property_list = []\n",
    "\n",
    "for i in range(1,20):\n",
    "   \n",
    "    print(len(property_list))\n",
    "\n",
    "    target_url = url.format(i)\n",
    "\n",
    "    print(target_url)\n",
    "\n",
    "    r = requests.get(target_url)\n",
    "\n",
    "    sleep(1)\n",
    "\n",
    "    soup = BeautifulSoup(r.text)\n",
    "\n",
    "    #全てのcasseteitem情報を取得\n",
    "    contents = soup.find_all('div', class_='cassetteitem')\n",
    "\n",
    "    #各物件情報をforループで取得する\n",
    "    for content in contents:\n",
    "\n",
    "        #物件情報を取得しておく\n",
    "        detail = content.find('div', class_='cassetteitem-detail')\n",
    "\n",
    "        #物件名と住所を取得\n",
    "        title = detail.find('div', class_='cassetteitem_content-title').text\n",
    "        station_near = detail.find('div', class_='cassetteitem_detail-text').text\n",
    "        address = detail.find('li', class_='cassetteitem_detail-col1').text\n",
    "\n",
    "        #各部屋情報(階数、家賃、敷金＆礼金、広さ)を取得\n",
    "        table = content.find('table', class_='cassetteitem_other')\n",
    "        tr_tags = table.find_all('tr', class_='js-cassette_link')\n",
    "        floor, price, first_fee, capacity = tr_tags[0].find_all('td')[2:6]\n",
    "\n",
    "        fee, management_fee = price.find_all('li')\n",
    "        deposit, gratuity = first_fee.find_all('li')\n",
    "        madori, menseki = capacity.find_all('li')\n",
    "\n",
    "        property = {\n",
    "            '物件名': title,\n",
    "            '最寄り駅': station_near,\n",
    "            '住所': address,\n",
    "            '間取り': madori.text,\n",
    "            '家賃': fee.text,\n",
    "            '階': floor.text\n",
    "        }\n",
    "\n",
    "\n",
    "        #取得した辞書をproperty_listに格納する\n",
    "        property_list.append(property)"
   ]
  },
  {
   "cell_type": "code",
   "execution_count": 162,
   "metadata": {},
   "outputs": [],
   "source": [
    "df = pd.DataFrame(property_list)"
   ]
  },
  {
   "cell_type": "code",
   "execution_count": 130,
   "metadata": {},
   "outputs": [
    {
     "data": {
      "text/html": [
       "<div>\n",
       "<style scoped>\n",
       "    .dataframe tbody tr th:only-of-type {\n",
       "        vertical-align: middle;\n",
       "    }\n",
       "\n",
       "    .dataframe tbody tr th {\n",
       "        vertical-align: top;\n",
       "    }\n",
       "\n",
       "    .dataframe thead th {\n",
       "        text-align: right;\n",
       "    }\n",
       "</style>\n",
       "<table border=\"1\" class=\"dataframe\">\n",
       "  <thead>\n",
       "    <tr style=\"text-align: right;\">\n",
       "      <th></th>\n",
       "      <th>物件名</th>\n",
       "      <th>最寄り駅</th>\n",
       "      <th>住所</th>\n",
       "      <th>間取り</th>\n",
       "      <th>家賃</th>\n",
       "      <th>階</th>\n",
       "    </tr>\n",
       "  </thead>\n",
       "  <tbody>\n",
       "    <tr>\n",
       "      <th>0</th>\n",
       "      <td>ＪＲ山手線 御徒町駅 7階建 築43年</td>\n",
       "      <td>ＪＲ山手線/御徒町駅 歩5分</td>\n",
       "      <td>東京都千代田区外神田６</td>\n",
       "      <td>2LDK</td>\n",
       "      <td>17.5万円</td>\n",
       "      <td>\\r\\n\\t\\t\\t\\t\\t\\t\\t\\t\\t\\t\\t2階</td>\n",
       "    </tr>\n",
       "    <tr>\n",
       "      <th>1</th>\n",
       "      <td>外神田フジハイツ</td>\n",
       "      <td>東京メトロ銀座線/末広町駅 歩3分</td>\n",
       "      <td>東京都千代田区外神田６</td>\n",
       "      <td>2LDK</td>\n",
       "      <td>17.5万円</td>\n",
       "      <td>\\r\\n\\t\\t\\t\\t\\t\\t\\t\\t\\t\\t\\t2階</td>\n",
       "    </tr>\n",
       "    <tr>\n",
       "      <th>2</th>\n",
       "      <td>東京メトロ丸ノ内線 新大塚駅 11階建 築50年</td>\n",
       "      <td>東京メトロ丸ノ内線/新大塚駅 歩1分</td>\n",
       "      <td>東京都文京区大塚４</td>\n",
       "      <td>2DK</td>\n",
       "      <td>13万円</td>\n",
       "      <td>\\r\\n\\t\\t\\t\\t\\t\\t\\t\\t\\t\\t\\t6階</td>\n",
       "    </tr>\n",
       "    <tr>\n",
       "      <th>3</th>\n",
       "      <td>アヴァンティーク銀座2丁目参番館</td>\n",
       "      <td>東京メトロ日比谷線/東銀座駅 歩3分</td>\n",
       "      <td>東京都中央区銀座２</td>\n",
       "      <td>2DK</td>\n",
       "      <td>20万円</td>\n",
       "      <td>\\r\\n\\t\\t\\t\\t\\t\\t\\t\\t\\t\\t\\t9階</td>\n",
       "    </tr>\n",
       "    <tr>\n",
       "      <th>4</th>\n",
       "      <td>ＪＲ山手線 秋葉原駅 8階建 築20年</td>\n",
       "      <td>ＪＲ山手線/秋葉原駅 歩5分</td>\n",
       "      <td>東京都千代田区神田須田町１</td>\n",
       "      <td>2DK</td>\n",
       "      <td>14万円</td>\n",
       "      <td>\\r\\n\\t\\t\\t\\t\\t\\t\\t\\t\\t\\t\\t6階</td>\n",
       "    </tr>\n",
       "  </tbody>\n",
       "</table>\n",
       "</div>"
      ],
      "text/plain": [
       "                        物件名                最寄り駅             住所   間取り      家賃  \\\n",
       "0       ＪＲ山手線 御徒町駅 7階建 築43年      ＪＲ山手線/御徒町駅 歩5分    東京都千代田区外神田６  2LDK  17.5万円   \n",
       "1                  外神田フジハイツ   東京メトロ銀座線/末広町駅 歩3分    東京都千代田区外神田６  2LDK  17.5万円   \n",
       "2  東京メトロ丸ノ内線 新大塚駅 11階建 築50年  東京メトロ丸ノ内線/新大塚駅 歩1分      東京都文京区大塚４   2DK    13万円   \n",
       "3          アヴァンティーク銀座2丁目参番館  東京メトロ日比谷線/東銀座駅 歩3分      東京都中央区銀座２   2DK    20万円   \n",
       "4       ＪＲ山手線 秋葉原駅 8階建 築20年      ＪＲ山手線/秋葉原駅 歩5分  東京都千代田区神田須田町１   2DK    14万円   \n",
       "\n",
       "                              階  \n",
       "0  \\r\\n\\t\\t\\t\\t\\t\\t\\t\\t\\t\\t\\t2階  \n",
       "1  \\r\\n\\t\\t\\t\\t\\t\\t\\t\\t\\t\\t\\t2階  \n",
       "2  \\r\\n\\t\\t\\t\\t\\t\\t\\t\\t\\t\\t\\t6階  \n",
       "3  \\r\\n\\t\\t\\t\\t\\t\\t\\t\\t\\t\\t\\t9階  \n",
       "4  \\r\\n\\t\\t\\t\\t\\t\\t\\t\\t\\t\\t\\t6階  "
      ]
     },
     "execution_count": 130,
     "metadata": {},
     "output_type": "execute_result"
    }
   ],
   "source": [
    "df.head()"
   ]
  },
  {
   "cell_type": "markdown",
   "metadata": {},
   "source": [
    "〇変えたいこと\n",
    "\n",
    "・物件名に駅名があるものを、～階建て 築〇〇年だけにしたい\n",
    "\n",
    "・最寄り駅を駅（電車）、駅までの距離（徒歩/分）に変え、数字だけにしたい\n",
    "\n",
    "・住所から東京都を取りたい\n",
    "\n",
    "・家賃を、家賃（万円）にして、数字だけにしたい\n",
    "\n",
    "・階から階を取りたい"
   ]
  },
  {
   "cell_type": "code",
   "execution_count": 163,
   "metadata": {},
   "outputs": [],
   "source": [
    "#階列から、「階」を削除\n",
    "df['階'] = df['階'].apply(lambda x: x.replace('階', ''))\n",
    "#家賃から、「万円」を削除\n",
    "df['家賃'] = df['家賃'].apply(lambda x: x.replace('万円', ''))\n",
    "#最寄駅から、駅までの距離だけを抽出し新規列に追加→最寄り駅の後ろに並び替える\n",
    "df[['最寄り駅', '駅までの距離']] = df['最寄り駅'].str.split(' ', expand=True)\n",
    "#最寄り駅から、「東京メトロ」を削除\n",
    "df['最寄り駅'] = df['最寄り駅'].apply(lambda x: x.replace('東京メトロ', ''))\n",
    "#住所から、「東京都」を削除\n",
    "df['住所'] = df['住所'].apply(lambda x: x.replace('東京都', ''))"
   ]
  },
  {
   "cell_type": "code",
   "execution_count": 164,
   "metadata": {},
   "outputs": [
    {
     "data": {
      "text/html": [
       "<div>\n",
       "<style scoped>\n",
       "    .dataframe tbody tr th:only-of-type {\n",
       "        vertical-align: middle;\n",
       "    }\n",
       "\n",
       "    .dataframe tbody tr th {\n",
       "        vertical-align: top;\n",
       "    }\n",
       "\n",
       "    .dataframe thead th {\n",
       "        text-align: right;\n",
       "    }\n",
       "</style>\n",
       "<table border=\"1\" class=\"dataframe\">\n",
       "  <thead>\n",
       "    <tr style=\"text-align: right;\">\n",
       "      <th></th>\n",
       "      <th>物件名</th>\n",
       "      <th>最寄り駅</th>\n",
       "      <th>駅までの距離（徒歩/分）</th>\n",
       "      <th>間取り</th>\n",
       "      <th>階</th>\n",
       "      <th>家賃</th>\n",
       "      <th>住所</th>\n",
       "    </tr>\n",
       "  </thead>\n",
       "  <tbody>\n",
       "    <tr>\n",
       "      <th>0</th>\n",
       "      <td>ＪＲ山手線 御徒町駅 7階建 築43年</td>\n",
       "      <td>ＪＲ山手線/御徒町駅</td>\n",
       "      <td>歩5分</td>\n",
       "      <td>2LDK</td>\n",
       "      <td>\\r\\n\\t\\t\\t\\t\\t\\t\\t\\t\\t\\t\\t2</td>\n",
       "      <td>17.5</td>\n",
       "      <td>千代田区外神田６</td>\n",
       "    </tr>\n",
       "    <tr>\n",
       "      <th>1</th>\n",
       "      <td>外神田フジハイツ</td>\n",
       "      <td>銀座線/末広町駅</td>\n",
       "      <td>歩3分</td>\n",
       "      <td>2LDK</td>\n",
       "      <td>\\r\\n\\t\\t\\t\\t\\t\\t\\t\\t\\t\\t\\t2</td>\n",
       "      <td>17.5</td>\n",
       "      <td>千代田区外神田６</td>\n",
       "    </tr>\n",
       "    <tr>\n",
       "      <th>2</th>\n",
       "      <td>東京メトロ丸ノ内線 新大塚駅 11階建 築50年</td>\n",
       "      <td>丸ノ内線/新大塚駅</td>\n",
       "      <td>歩1分</td>\n",
       "      <td>2DK</td>\n",
       "      <td>\\r\\n\\t\\t\\t\\t\\t\\t\\t\\t\\t\\t\\t6</td>\n",
       "      <td>13</td>\n",
       "      <td>文京区大塚４</td>\n",
       "    </tr>\n",
       "    <tr>\n",
       "      <th>3</th>\n",
       "      <td>アヴァンティーク銀座2丁目参番館</td>\n",
       "      <td>日比谷線/東銀座駅</td>\n",
       "      <td>歩3分</td>\n",
       "      <td>2DK</td>\n",
       "      <td>\\r\\n\\t\\t\\t\\t\\t\\t\\t\\t\\t\\t\\t9</td>\n",
       "      <td>20</td>\n",
       "      <td>中央区銀座２</td>\n",
       "    </tr>\n",
       "    <tr>\n",
       "      <th>4</th>\n",
       "      <td>ＪＲ山手線 秋葉原駅 8階建 築20年</td>\n",
       "      <td>ＪＲ山手線/秋葉原駅</td>\n",
       "      <td>歩5分</td>\n",
       "      <td>2DK</td>\n",
       "      <td>\\r\\n\\t\\t\\t\\t\\t\\t\\t\\t\\t\\t\\t6</td>\n",
       "      <td>14</td>\n",
       "      <td>千代田区神田須田町１</td>\n",
       "    </tr>\n",
       "  </tbody>\n",
       "</table>\n",
       "</div>"
      ],
      "text/plain": [
       "                        物件名        最寄り駅 駅までの距離（徒歩/分）   間取り  \\\n",
       "0       ＪＲ山手線 御徒町駅 7階建 築43年  ＪＲ山手線/御徒町駅          歩5分  2LDK   \n",
       "1                  外神田フジハイツ    銀座線/末広町駅          歩3分  2LDK   \n",
       "2  東京メトロ丸ノ内線 新大塚駅 11階建 築50年   丸ノ内線/新大塚駅          歩1分   2DK   \n",
       "3          アヴァンティーク銀座2丁目参番館   日比谷線/東銀座駅          歩3分   2DK   \n",
       "4       ＪＲ山手線 秋葉原駅 8階建 築20年  ＪＲ山手線/秋葉原駅          歩5分   2DK   \n",
       "\n",
       "                             階    家賃          住所  \n",
       "0  \\r\\n\\t\\t\\t\\t\\t\\t\\t\\t\\t\\t\\t2  17.5    千代田区外神田６  \n",
       "1  \\r\\n\\t\\t\\t\\t\\t\\t\\t\\t\\t\\t\\t2  17.5    千代田区外神田６  \n",
       "2  \\r\\n\\t\\t\\t\\t\\t\\t\\t\\t\\t\\t\\t6    13      文京区大塚４  \n",
       "3  \\r\\n\\t\\t\\t\\t\\t\\t\\t\\t\\t\\t\\t9    20      中央区銀座２  \n",
       "4  \\r\\n\\t\\t\\t\\t\\t\\t\\t\\t\\t\\t\\t6    14  千代田区神田須田町１  "
      ]
     },
     "execution_count": 164,
     "metadata": {},
     "output_type": "execute_result"
    }
   ],
   "source": [
    "df = df.rename(columns={'駅までの距離': '駅までの距離（徒歩/分）'})\n",
    "\n",
    "#順番を変更\n",
    "new_column_order = ['物件名', '最寄り駅', '駅までの距離（徒歩/分）', '間取り','階','家賃', '住所']\n",
    "\n",
    "#新しいdfを作成\n",
    "df = df[new_column_order]\n",
    "df.head()"
   ]
  },
  {
   "cell_type": "code",
   "execution_count": 165,
   "metadata": {},
   "outputs": [],
   "source": [
    "#駅までの距離から、歩と分を消す\n",
    "df['駅までの距離（徒歩/分）'] = df['駅までの距離（徒歩/分）'].apply(lambda x: x.replace('歩', ''))\n",
    "df['駅までの距離（徒歩/分）'] = df['駅までの距離（徒歩/分）'].apply(lambda x: x.replace('分', ''))"
   ]
  },
  {
   "cell_type": "code",
   "execution_count": 167,
   "metadata": {},
   "outputs": [
    {
     "data": {
      "text/html": [
       "<div>\n",
       "<style scoped>\n",
       "    .dataframe tbody tr th:only-of-type {\n",
       "        vertical-align: middle;\n",
       "    }\n",
       "\n",
       "    .dataframe tbody tr th {\n",
       "        vertical-align: top;\n",
       "    }\n",
       "\n",
       "    .dataframe thead th {\n",
       "        text-align: right;\n",
       "    }\n",
       "</style>\n",
       "<table border=\"1\" class=\"dataframe\">\n",
       "  <thead>\n",
       "    <tr style=\"text-align: right;\">\n",
       "      <th></th>\n",
       "      <th>物件名</th>\n",
       "      <th>最寄り駅</th>\n",
       "      <th>駅までの距離（徒歩/分）</th>\n",
       "      <th>間取り</th>\n",
       "      <th>階</th>\n",
       "      <th>家賃</th>\n",
       "      <th>住所</th>\n",
       "    </tr>\n",
       "  </thead>\n",
       "  <tbody>\n",
       "    <tr>\n",
       "      <th>0</th>\n",
       "      <td>7階建 築43年</td>\n",
       "      <td>ＪＲ山手線/御徒町駅</td>\n",
       "      <td>5</td>\n",
       "      <td>2LDK</td>\n",
       "      <td>\\r\\n\\t\\t\\t\\t\\t\\t\\t\\t\\t\\t\\t2</td>\n",
       "      <td>17.5</td>\n",
       "      <td>千代田区外神田６</td>\n",
       "    </tr>\n",
       "    <tr>\n",
       "      <th>1</th>\n",
       "      <td>外神田フジハイツ</td>\n",
       "      <td>銀座線/末広町駅</td>\n",
       "      <td>3</td>\n",
       "      <td>2LDK</td>\n",
       "      <td>\\r\\n\\t\\t\\t\\t\\t\\t\\t\\t\\t\\t\\t2</td>\n",
       "      <td>17.5</td>\n",
       "      <td>千代田区外神田６</td>\n",
       "    </tr>\n",
       "    <tr>\n",
       "      <th>2</th>\n",
       "      <td>11階建 築50年</td>\n",
       "      <td>丸ノ内線/新大塚駅</td>\n",
       "      <td>1</td>\n",
       "      <td>2DK</td>\n",
       "      <td>\\r\\n\\t\\t\\t\\t\\t\\t\\t\\t\\t\\t\\t6</td>\n",
       "      <td>13</td>\n",
       "      <td>文京区大塚４</td>\n",
       "    </tr>\n",
       "    <tr>\n",
       "      <th>3</th>\n",
       "      <td>アヴァンティーク銀座2丁目参番館</td>\n",
       "      <td>日比谷線/東銀座駅</td>\n",
       "      <td>3</td>\n",
       "      <td>2DK</td>\n",
       "      <td>\\r\\n\\t\\t\\t\\t\\t\\t\\t\\t\\t\\t\\t9</td>\n",
       "      <td>20</td>\n",
       "      <td>中央区銀座２</td>\n",
       "    </tr>\n",
       "    <tr>\n",
       "      <th>4</th>\n",
       "      <td>8階建 築20年</td>\n",
       "      <td>ＪＲ山手線/秋葉原駅</td>\n",
       "      <td>5</td>\n",
       "      <td>2DK</td>\n",
       "      <td>\\r\\n\\t\\t\\t\\t\\t\\t\\t\\t\\t\\t\\t6</td>\n",
       "      <td>14</td>\n",
       "      <td>千代田区神田須田町１</td>\n",
       "    </tr>\n",
       "  </tbody>\n",
       "</table>\n",
       "</div>"
      ],
      "text/plain": [
       "                物件名        最寄り駅 駅までの距離（徒歩/分）   間取り  \\\n",
       "0          7階建 築43年  ＪＲ山手線/御徒町駅            5  2LDK   \n",
       "1          外神田フジハイツ    銀座線/末広町駅            3  2LDK   \n",
       "2         11階建 築50年   丸ノ内線/新大塚駅            1   2DK   \n",
       "3  アヴァンティーク銀座2丁目参番館   日比谷線/東銀座駅            3   2DK   \n",
       "4          8階建 築20年  ＪＲ山手線/秋葉原駅            5   2DK   \n",
       "\n",
       "                             階    家賃          住所  \n",
       "0  \\r\\n\\t\\t\\t\\t\\t\\t\\t\\t\\t\\t\\t2  17.5    千代田区外神田６  \n",
       "1  \\r\\n\\t\\t\\t\\t\\t\\t\\t\\t\\t\\t\\t2  17.5    千代田区外神田６  \n",
       "2  \\r\\n\\t\\t\\t\\t\\t\\t\\t\\t\\t\\t\\t6    13      文京区大塚４  \n",
       "3  \\r\\n\\t\\t\\t\\t\\t\\t\\t\\t\\t\\t\\t9    20      中央区銀座２  \n",
       "4  \\r\\n\\t\\t\\t\\t\\t\\t\\t\\t\\t\\t\\t6    14  千代田区神田須田町１  "
      ]
     },
     "execution_count": 167,
     "metadata": {},
     "output_type": "execute_result"
    }
   ],
   "source": [
    "# 物件名と最寄り駅の共通部分を特定する\n",
    "def find_common_part(title, station_near):\n",
    "    common_parts = []\n",
    "    for word in title.split():\n",
    "        if word in station_near:\n",
    "            common_parts.append(word)\n",
    "    return \" \".join(common_parts)\n",
    "\n",
    "# 共通部分をdfとして格納\n",
    "df['共通部分'] = df.apply(lambda x: find_common_part(x['物件名'], x['最寄り駅']), axis=1)\n",
    "\n",
    "# 物件名から共通部分削除したものをdfに格納\n",
    "df['物件名（共通部分削除後）'] = df.apply(lambda x: x['物件名'].replace(x['共通部分'], ''), axis=1)\n",
    "\n",
    "\n",
    "# 共通部分削除後の物件名を、元の物件名に置き換える\n",
    "df['物件名'] = df['物件名（共通部分削除後）']\n",
    "\n",
    "# 共通部分削除のカラムを削除する\n",
    "df = df.drop(columns=['共通部分', '物件名（共通部分削除後）'])\n",
    "\n",
    "df.head()"
   ]
  },
  {
   "cell_type": "code",
   "execution_count": 168,
   "metadata": {},
   "outputs": [],
   "source": [
    "# 最寄り駅名カラムを、路線名と駅名で分割\n",
    "df[['路線名', '駅名']] = df['最寄り駅'].str.split('/', expand=True)\n",
    "\n",
    "# 最寄り駅カラムと路線名、駅名カラムを入れ替え、最寄り駅カラムを削除\n",
    "df = df.drop('最寄り駅', axis=1)\n",
    "column_order = ['物件名', '路線名', '駅名', '駅までの距離（徒歩/分）', '間取り', '階', '家賃', '住所']\n",
    "df = df[column_order]"
   ]
  },
  {
   "cell_type": "code",
   "execution_count": 169,
   "metadata": {},
   "outputs": [],
   "source": [
    "# 不要なスペースをすべて削除\n",
    "df = df.applymap(lambda x: x.strip() if isinstance(x, str) else x)"
   ]
  },
  {
   "cell_type": "code",
   "execution_count": 170,
   "metadata": {},
   "outputs": [
    {
     "data": {
      "text/html": [
       "<div>\n",
       "<style scoped>\n",
       "    .dataframe tbody tr th:only-of-type {\n",
       "        vertical-align: middle;\n",
       "    }\n",
       "\n",
       "    .dataframe tbody tr th {\n",
       "        vertical-align: top;\n",
       "    }\n",
       "\n",
       "    .dataframe thead th {\n",
       "        text-align: right;\n",
       "    }\n",
       "</style>\n",
       "<table border=\"1\" class=\"dataframe\">\n",
       "  <thead>\n",
       "    <tr style=\"text-align: right;\">\n",
       "      <th></th>\n",
       "      <th>物件名</th>\n",
       "      <th>路線名</th>\n",
       "      <th>駅名</th>\n",
       "      <th>駅までの距離（徒歩/分）</th>\n",
       "      <th>間取り</th>\n",
       "      <th>階</th>\n",
       "      <th>家賃</th>\n",
       "      <th>住所</th>\n",
       "    </tr>\n",
       "  </thead>\n",
       "  <tbody>\n",
       "    <tr>\n",
       "      <th>0</th>\n",
       "      <td>7階建 築43年</td>\n",
       "      <td>ＪＲ山手線</td>\n",
       "      <td>御徒町駅</td>\n",
       "      <td>5</td>\n",
       "      <td>2LDK</td>\n",
       "      <td>2</td>\n",
       "      <td>17.5</td>\n",
       "      <td>千代田区外神田６</td>\n",
       "    </tr>\n",
       "    <tr>\n",
       "      <th>1</th>\n",
       "      <td>外神田フジハイツ</td>\n",
       "      <td>銀座線</td>\n",
       "      <td>末広町駅</td>\n",
       "      <td>3</td>\n",
       "      <td>2LDK</td>\n",
       "      <td>2</td>\n",
       "      <td>17.5</td>\n",
       "      <td>千代田区外神田６</td>\n",
       "    </tr>\n",
       "    <tr>\n",
       "      <th>2</th>\n",
       "      <td>11階建 築50年</td>\n",
       "      <td>丸ノ内線</td>\n",
       "      <td>新大塚駅</td>\n",
       "      <td>1</td>\n",
       "      <td>2DK</td>\n",
       "      <td>6</td>\n",
       "      <td>13</td>\n",
       "      <td>文京区大塚４</td>\n",
       "    </tr>\n",
       "    <tr>\n",
       "      <th>3</th>\n",
       "      <td>アヴァンティーク銀座2丁目参番館</td>\n",
       "      <td>日比谷線</td>\n",
       "      <td>東銀座駅</td>\n",
       "      <td>3</td>\n",
       "      <td>2DK</td>\n",
       "      <td>9</td>\n",
       "      <td>20</td>\n",
       "      <td>中央区銀座２</td>\n",
       "    </tr>\n",
       "    <tr>\n",
       "      <th>4</th>\n",
       "      <td>8階建 築20年</td>\n",
       "      <td>ＪＲ山手線</td>\n",
       "      <td>秋葉原駅</td>\n",
       "      <td>5</td>\n",
       "      <td>2DK</td>\n",
       "      <td>6</td>\n",
       "      <td>14</td>\n",
       "      <td>千代田区神田須田町１</td>\n",
       "    </tr>\n",
       "  </tbody>\n",
       "</table>\n",
       "</div>"
      ],
      "text/plain": [
       "                物件名    路線名    駅名 駅までの距離（徒歩/分）   間取り  階    家賃          住所\n",
       "0          7階建 築43年  ＪＲ山手線  御徒町駅            5  2LDK  2  17.5    千代田区外神田６\n",
       "1          外神田フジハイツ    銀座線  末広町駅            3  2LDK  2  17.5    千代田区外神田６\n",
       "2         11階建 築50年   丸ノ内線  新大塚駅            1   2DK  6    13      文京区大塚４\n",
       "3  アヴァンティーク銀座2丁目参番館   日比谷線  東銀座駅            3   2DK  9    20      中央区銀座２\n",
       "4          8階建 築20年  ＪＲ山手線  秋葉原駅            5   2DK  6    14  千代田区神田須田町１"
      ]
     },
     "execution_count": 170,
     "metadata": {},
     "output_type": "execute_result"
    }
   ],
   "source": [
    "df.head()"
   ]
  },
  {
   "cell_type": "code",
   "execution_count": 171,
   "metadata": {},
   "outputs": [
    {
     "name": "stdout",
     "output_type": "stream",
     "text": [
      "                  物件名    路線名     駅名 駅までの距離（徒歩/分）   間取り  階    家賃          住所\n",
      "0            7階建 築43年  ＪＲ山手線   御徒町駅            5  2LDK  2  17.5    千代田区外神田６\n",
      "1            外神田フジハイツ    銀座線   末広町駅            3  2LDK  2  17.5    千代田区外神田６\n",
      "3    アヴァンティーク銀座2丁目参番館   日比谷線   東銀座駅            3   2DK  9    20      中央区銀座２\n",
      "4            8階建 築20年  ＪＲ山手線   秋葉原駅            5   2DK  6    14  千代田区神田須田町１\n",
      "5          パークウェル御茶ノ水   丸ノ内線   淡路町駅            2   2DK  6    14  千代田区神田須田町１\n",
      "..                ...    ...    ...          ...   ... ..   ...         ...\n",
      "557           サンモール鈴木   丸ノ内線   方南町駅            2    2K  5   9.9      杉並区和泉４\n",
      "558           セザール西品川  ＪＲ山手線    大崎駅            5  2LDK  2    14     品川区西品川３\n",
      "559     地下1地上6階建 築41年  ＪＲ山手線    大崎駅            5  2LDK  2    14     品川区西品川３\n",
      "560             コーポ松崎  ＪＲ山手線  西日暮里駅            5    2K  1   4.2    荒川区西日暮里５\n",
      "561         11階建 築28年  ＪＲ山手線    駒込駅            3    2K  5   8.5       北区中里１\n",
      "\n",
      "[233 rows x 8 columns]\n"
     ]
    }
   ],
   "source": [
    "# 重複した行を特定する条件を指定\n",
    "duplicate_condition = df.duplicated(subset=['住所', '家賃', '階'], keep=False)\n",
    "\n",
    "# 重複した行を抽出\n",
    "duplicates = df[duplicate_condition]\n",
    "\n",
    "# 重複した行を表示\n",
    "print(duplicates)"
   ]
  },
  {
   "cell_type": "code",
   "execution_count": 172,
   "metadata": {},
   "outputs": [],
   "source": [
    "# 重複した行を削除\n",
    "df = df.drop_duplicates(subset=['住所', '家賃', '階'], keep='first')"
   ]
  },
  {
   "cell_type": "code",
   "execution_count": 173,
   "metadata": {},
   "outputs": [
    {
     "data": {
      "text/html": [
       "<div>\n",
       "<style scoped>\n",
       "    .dataframe tbody tr th:only-of-type {\n",
       "        vertical-align: middle;\n",
       "    }\n",
       "\n",
       "    .dataframe tbody tr th {\n",
       "        vertical-align: top;\n",
       "    }\n",
       "\n",
       "    .dataframe thead th {\n",
       "        text-align: right;\n",
       "    }\n",
       "</style>\n",
       "<table border=\"1\" class=\"dataframe\">\n",
       "  <thead>\n",
       "    <tr style=\"text-align: right;\">\n",
       "      <th></th>\n",
       "      <th>物件名</th>\n",
       "      <th>路線名</th>\n",
       "      <th>駅名</th>\n",
       "      <th>駅までの距離（徒歩/分）</th>\n",
       "      <th>間取り</th>\n",
       "      <th>階</th>\n",
       "      <th>家賃</th>\n",
       "      <th>住所</th>\n",
       "    </tr>\n",
       "  </thead>\n",
       "  <tbody>\n",
       "    <tr>\n",
       "      <th>0</th>\n",
       "      <td>7階建 築43年</td>\n",
       "      <td>ＪＲ山手線</td>\n",
       "      <td>御徒町駅</td>\n",
       "      <td>5</td>\n",
       "      <td>2LDK</td>\n",
       "      <td>2</td>\n",
       "      <td>17.5</td>\n",
       "      <td>千代田区外神田６</td>\n",
       "    </tr>\n",
       "    <tr>\n",
       "      <th>2</th>\n",
       "      <td>11階建 築50年</td>\n",
       "      <td>丸ノ内線</td>\n",
       "      <td>新大塚駅</td>\n",
       "      <td>1</td>\n",
       "      <td>2DK</td>\n",
       "      <td>6</td>\n",
       "      <td>13</td>\n",
       "      <td>文京区大塚４</td>\n",
       "    </tr>\n",
       "    <tr>\n",
       "      <th>3</th>\n",
       "      <td>アヴァンティーク銀座2丁目参番館</td>\n",
       "      <td>日比谷線</td>\n",
       "      <td>東銀座駅</td>\n",
       "      <td>3</td>\n",
       "      <td>2DK</td>\n",
       "      <td>9</td>\n",
       "      <td>20</td>\n",
       "      <td>中央区銀座２</td>\n",
       "    </tr>\n",
       "    <tr>\n",
       "      <th>4</th>\n",
       "      <td>8階建 築20年</td>\n",
       "      <td>ＪＲ山手線</td>\n",
       "      <td>秋葉原駅</td>\n",
       "      <td>5</td>\n",
       "      <td>2DK</td>\n",
       "      <td>6</td>\n",
       "      <td>14</td>\n",
       "      <td>千代田区神田須田町１</td>\n",
       "    </tr>\n",
       "    <tr>\n",
       "      <th>6</th>\n",
       "      <td>4階建 築59年</td>\n",
       "      <td>丸ノ内線</td>\n",
       "      <td>中野新橋駅</td>\n",
       "      <td>3</td>\n",
       "      <td>2K</td>\n",
       "      <td>1</td>\n",
       "      <td>6.8</td>\n",
       "      <td>中野区弥生町２</td>\n",
       "    </tr>\n",
       "  </tbody>\n",
       "</table>\n",
       "</div>"
      ],
      "text/plain": [
       "                物件名    路線名     駅名 駅までの距離（徒歩/分）   間取り  階    家賃          住所\n",
       "0          7階建 築43年  ＪＲ山手線   御徒町駅            5  2LDK  2  17.5    千代田区外神田６\n",
       "2         11階建 築50年   丸ノ内線   新大塚駅            1   2DK  6    13      文京区大塚４\n",
       "3  アヴァンティーク銀座2丁目参番館   日比谷線   東銀座駅            3   2DK  9    20      中央区銀座２\n",
       "4          8階建 築20年  ＪＲ山手線   秋葉原駅            5   2DK  6    14  千代田区神田須田町１\n",
       "6          4階建 築59年   丸ノ内線  中野新橋駅            3    2K  1   6.8     中野区弥生町２"
      ]
     },
     "execution_count": 173,
     "metadata": {},
     "output_type": "execute_result"
    }
   ],
   "source": [
    "df.head()"
   ]
  },
  {
   "cell_type": "code",
   "execution_count": 174,
   "metadata": {},
   "outputs": [],
   "source": [
    "# dfをcsvに出力\n",
    "df.to_csv('suumo_cleansing.csv', index=None, encoding='utf-8-sig')"
   ]
  },
  {
   "cell_type": "markdown",
   "metadata": {},
   "source": [
    "ここからスプレッドシートに出力"
   ]
  },
  {
   "cell_type": "code",
   "execution_count": 67,
   "metadata": {},
   "outputs": [
    {
     "name": "stdout",
     "output_type": "stream",
     "text": [
      "Requirement already satisfied: gspread in c:\\users\\yo_kishimoto\\downloads\\tech0\\anaconda\\lib\\site-packages (5.12.2)\n",
      "Requirement already satisfied: google-auth>=1.12.0 in c:\\users\\yo_kishimoto\\downloads\\tech0\\anaconda\\lib\\site-packages (from gspread) (2.22.0)\n",
      "Requirement already satisfied: google-auth-oauthlib>=0.4.1 in c:\\users\\yo_kishimoto\\downloads\\tech0\\anaconda\\lib\\site-packages (from gspread) (1.0.0)\n",
      "Requirement already satisfied: cachetools<6.0,>=2.0.0 in c:\\users\\yo_kishimoto\\downloads\\tech0\\anaconda\\lib\\site-packages (from google-auth>=1.12.0->gspread) (5.3.1)\n",
      "Requirement already satisfied: pyasn1-modules>=0.2.1 in c:\\users\\yo_kishimoto\\downloads\\tech0\\anaconda\\lib\\site-packages (from google-auth>=1.12.0->gspread) (0.2.8)\n",
      "Requirement already satisfied: rsa<5,>=3.1.4 in c:\\users\\yo_kishimoto\\downloads\\tech0\\anaconda\\lib\\site-packages (from google-auth>=1.12.0->gspread) (4.9)\n",
      "Requirement already satisfied: six>=1.9.0 in c:\\users\\yo_kishimoto\\downloads\\tech0\\anaconda\\lib\\site-packages (from google-auth>=1.12.0->gspread) (1.16.0)\n",
      "Requirement already satisfied: urllib3<2.0 in c:\\users\\yo_kishimoto\\downloads\\tech0\\anaconda\\lib\\site-packages (from google-auth>=1.12.0->gspread) (1.26.16)\n",
      "Requirement already satisfied: requests-oauthlib>=0.7.0 in c:\\users\\yo_kishimoto\\downloads\\tech0\\anaconda\\lib\\site-packages (from google-auth-oauthlib>=0.4.1->gspread) (1.3.1)\n",
      "Requirement already satisfied: pyasn1<0.5.0,>=0.4.6 in c:\\users\\yo_kishimoto\\downloads\\tech0\\anaconda\\lib\\site-packages (from pyasn1-modules>=0.2.1->google-auth>=1.12.0->gspread) (0.4.8)\n",
      "Requirement already satisfied: oauthlib>=3.0.0 in c:\\users\\yo_kishimoto\\downloads\\tech0\\anaconda\\lib\\site-packages (from requests-oauthlib>=0.7.0->google-auth-oauthlib>=0.4.1->gspread) (3.2.2)\n",
      "Requirement already satisfied: requests>=2.0.0 in c:\\users\\yo_kishimoto\\downloads\\tech0\\anaconda\\lib\\site-packages (from requests-oauthlib>=0.7.0->google-auth-oauthlib>=0.4.1->gspread) (2.31.0)\n",
      "Requirement already satisfied: charset-normalizer<4,>=2 in c:\\users\\yo_kishimoto\\downloads\\tech0\\anaconda\\lib\\site-packages (from requests>=2.0.0->requests-oauthlib>=0.7.0->google-auth-oauthlib>=0.4.1->gspread) (2.0.4)\n",
      "Requirement already satisfied: idna<4,>=2.5 in c:\\users\\yo_kishimoto\\downloads\\tech0\\anaconda\\lib\\site-packages (from requests>=2.0.0->requests-oauthlib>=0.7.0->google-auth-oauthlib>=0.4.1->gspread) (3.4)\n",
      "Requirement already satisfied: certifi>=2017.4.17 in c:\\users\\yo_kishimoto\\downloads\\tech0\\anaconda\\lib\\site-packages (from requests>=2.0.0->requests-oauthlib>=0.7.0->google-auth-oauthlib>=0.4.1->gspread) (2023.7.22)\n",
      "Note: you may need to restart the kernel to use updated packages.\n"
     ]
    }
   ],
   "source": [
    "pip install gspread"
   ]
  },
  {
   "cell_type": "code",
   "execution_count": 68,
   "metadata": {},
   "outputs": [
    {
     "name": "stdout",
     "output_type": "stream",
     "text": [
      "Requirement already satisfied: oauth2client in c:\\users\\yo_kishimoto\\downloads\\tech0\\anaconda\\lib\\site-packages (4.1.3)\n",
      "Requirement already satisfied: httplib2>=0.9.1 in c:\\users\\yo_kishimoto\\downloads\\tech0\\anaconda\\lib\\site-packages (from oauth2client) (0.22.0)\n",
      "Requirement already satisfied: pyasn1>=0.1.7 in c:\\users\\yo_kishimoto\\downloads\\tech0\\anaconda\\lib\\site-packages (from oauth2client) (0.4.8)\n",
      "Requirement already satisfied: pyasn1-modules>=0.0.5 in c:\\users\\yo_kishimoto\\downloads\\tech0\\anaconda\\lib\\site-packages (from oauth2client) (0.2.8)\n",
      "Requirement already satisfied: rsa>=3.1.4 in c:\\users\\yo_kishimoto\\downloads\\tech0\\anaconda\\lib\\site-packages (from oauth2client) (4.9)\n",
      "Requirement already satisfied: six>=1.6.1 in c:\\users\\yo_kishimoto\\downloads\\tech0\\anaconda\\lib\\site-packages (from oauth2client) (1.16.0)\n",
      "Requirement already satisfied: pyparsing!=3.0.0,!=3.0.1,!=3.0.2,!=3.0.3,<4,>=2.4.2 in c:\\users\\yo_kishimoto\\downloads\\tech0\\anaconda\\lib\\site-packages (from httplib2>=0.9.1->oauth2client) (3.0.9)\n",
      "Note: you may need to restart the kernel to use updated packages.\n"
     ]
    }
   ],
   "source": [
    "pip install oauth2client"
   ]
  },
  {
   "cell_type": "code",
   "execution_count": 69,
   "metadata": {},
   "outputs": [],
   "source": [
    "#ライブラリをインポート\n",
    "import gspread\n",
    "from oauth2client.service_account import ServiceAccountCredentials"
   ]
  },
  {
   "cell_type": "code",
   "execution_count": 99,
   "metadata": {},
   "outputs": [],
   "source": [
    "scope = ['https://www.googleapis.com/auth/spreadsheets', 'https://www.googleapis.com/auth/drive']\n",
    "credentials = ServiceAccountCredentials.from_json_keyfile_name('tech0scraping-075b6d093eb0.json', scope)\n",
    "gc = gspread.authorize(credentials)"
   ]
  },
  {
   "cell_type": "code",
   "execution_count": 100,
   "metadata": {},
   "outputs": [],
   "source": [
    "spreadsheet = gc.open('suumo_properties_list')"
   ]
  },
  {
   "cell_type": "code",
   "execution_count": 102,
   "metadata": {},
   "outputs": [
    {
     "name": "stderr",
     "output_type": "stream",
     "text": [
      "C:\\Users\\Yo_Kishimoto\\AppData\\Local\\Temp\\ipykernel_26532\\757687284.py:8: DeprecationWarning: Worksheet.delete_row() is deprecated, Please use `Worksheet.delete_rows()` instead.\n",
      "  worksheet.delete_row(1)  # 1行目を削除\n"
     ]
    },
    {
     "data": {
      "text/plain": [
       "{'spreadsheetId': '1cSoYXfDF4RdqBcFYJ1L6TBQ6EsgxqCAhCHXHKAEfweM',\n",
       " 'replies': [{}]}"
      ]
     },
     "execution_count": 102,
     "metadata": {},
     "output_type": "execute_result"
    }
   ],
   "source": [
    "# DataFrameのデータをリストに変換（カラム名を含む）\n",
    "df_data_with_columns = [df.columns.tolist()] + df.values.tolist()\n",
    "\n",
    "# データをスプレッドシートに挿入\n",
    "worksheet = spreadsheet.get_worksheet(0)  # ワークシートのインデックスを指定\n",
    "worksheet.insert_rows(df_data_with_columns, 2)  # データを挿入\n",
    "# 空白行を削除\n",
    "worksheet.delete_row(1)  # 1行目を削除"
   ]
  },
  {
   "cell_type": "code",
   "execution_count": 75,
   "metadata": {},
   "outputs": [
    {
     "name": "stdout",
     "output_type": "stream",
     "text": [
      "Requirement already satisfied: gspread_dataframe in c:\\users\\yo_kishimoto\\downloads\\tech0\\anaconda\\lib\\site-packages (3.3.1)Note: you may need to restart the kernel to use updated packages.\n",
      "\n",
      "Requirement already satisfied: gspread>=3.0.0 in c:\\users\\yo_kishimoto\\downloads\\tech0\\anaconda\\lib\\site-packages (from gspread_dataframe) (5.12.2)\n",
      "Requirement already satisfied: pandas>=0.24.0 in c:\\users\\yo_kishimoto\\downloads\\tech0\\anaconda\\lib\\site-packages (from gspread_dataframe) (1.5.3)\n",
      "Requirement already satisfied: six>=1.12.0 in c:\\users\\yo_kishimoto\\downloads\\tech0\\anaconda\\lib\\site-packages (from gspread_dataframe) (1.16.0)\n",
      "Requirement already satisfied: google-auth>=1.12.0 in c:\\users\\yo_kishimoto\\downloads\\tech0\\anaconda\\lib\\site-packages (from gspread>=3.0.0->gspread_dataframe) (2.22.0)\n",
      "Requirement already satisfied: google-auth-oauthlib>=0.4.1 in c:\\users\\yo_kishimoto\\downloads\\tech0\\anaconda\\lib\\site-packages (from gspread>=3.0.0->gspread_dataframe) (1.0.0)\n",
      "Requirement already satisfied: python-dateutil>=2.8.1 in c:\\users\\yo_kishimoto\\downloads\\tech0\\anaconda\\lib\\site-packages (from pandas>=0.24.0->gspread_dataframe) (2.8.2)\n",
      "Requirement already satisfied: pytz>=2020.1 in c:\\users\\yo_kishimoto\\downloads\\tech0\\anaconda\\lib\\site-packages (from pandas>=0.24.0->gspread_dataframe) (2022.7)\n",
      "Requirement already satisfied: numpy>=1.21.0 in c:\\users\\yo_kishimoto\\downloads\\tech0\\anaconda\\lib\\site-packages (from pandas>=0.24.0->gspread_dataframe) (1.24.3)\n",
      "Requirement already satisfied: cachetools<6.0,>=2.0.0 in c:\\users\\yo_kishimoto\\downloads\\tech0\\anaconda\\lib\\site-packages (from google-auth>=1.12.0->gspread>=3.0.0->gspread_dataframe) (5.3.1)\n",
      "Requirement already satisfied: pyasn1-modules>=0.2.1 in c:\\users\\yo_kishimoto\\downloads\\tech0\\anaconda\\lib\\site-packages (from google-auth>=1.12.0->gspread>=3.0.0->gspread_dataframe) (0.2.8)\n",
      "Requirement already satisfied: rsa<5,>=3.1.4 in c:\\users\\yo_kishimoto\\downloads\\tech0\\anaconda\\lib\\site-packages (from google-auth>=1.12.0->gspread>=3.0.0->gspread_dataframe) (4.9)\n",
      "Requirement already satisfied: urllib3<2.0 in c:\\users\\yo_kishimoto\\downloads\\tech0\\anaconda\\lib\\site-packages (from google-auth>=1.12.0->gspread>=3.0.0->gspread_dataframe) (1.26.16)\n",
      "Requirement already satisfied: requests-oauthlib>=0.7.0 in c:\\users\\yo_kishimoto\\downloads\\tech0\\anaconda\\lib\\site-packages (from google-auth-oauthlib>=0.4.1->gspread>=3.0.0->gspread_dataframe) (1.3.1)\n",
      "Requirement already satisfied: pyasn1<0.5.0,>=0.4.6 in c:\\users\\yo_kishimoto\\downloads\\tech0\\anaconda\\lib\\site-packages (from pyasn1-modules>=0.2.1->google-auth>=1.12.0->gspread>=3.0.0->gspread_dataframe) (0.4.8)\n",
      "Requirement already satisfied: oauthlib>=3.0.0 in c:\\users\\yo_kishimoto\\downloads\\tech0\\anaconda\\lib\\site-packages (from requests-oauthlib>=0.7.0->google-auth-oauthlib>=0.4.1->gspread>=3.0.0->gspread_dataframe) (3.2.2)\n",
      "Requirement already satisfied: requests>=2.0.0 in c:\\users\\yo_kishimoto\\downloads\\tech0\\anaconda\\lib\\site-packages (from requests-oauthlib>=0.7.0->google-auth-oauthlib>=0.4.1->gspread>=3.0.0->gspread_dataframe) (2.31.0)\n",
      "Requirement already satisfied: charset-normalizer<4,>=2 in c:\\users\\yo_kishimoto\\downloads\\tech0\\anaconda\\lib\\site-packages (from requests>=2.0.0->requests-oauthlib>=0.7.0->google-auth-oauthlib>=0.4.1->gspread>=3.0.0->gspread_dataframe) (2.0.4)\n",
      "Requirement already satisfied: idna<4,>=2.5 in c:\\users\\yo_kishimoto\\downloads\\tech0\\anaconda\\lib\\site-packages (from requests>=2.0.0->requests-oauthlib>=0.7.0->google-auth-oauthlib>=0.4.1->gspread>=3.0.0->gspread_dataframe) (3.4)\n",
      "Requirement already satisfied: certifi>=2017.4.17 in c:\\users\\yo_kishimoto\\downloads\\tech0\\anaconda\\lib\\site-packages (from requests>=2.0.0->requests-oauthlib>=0.7.0->google-auth-oauthlib>=0.4.1->gspread>=3.0.0->gspread_dataframe) (2023.7.22)\n"
     ]
    }
   ],
   "source": [
    "pip install gspread_dataframe"
   ]
  },
  {
   "cell_type": "code",
   "execution_count": 23,
   "metadata": {},
   "outputs": [],
   "source": [
    "from gspread_dataframe import set_with_dataframe"
   ]
  },
  {
   "cell_type": "code",
   "execution_count": null,
   "metadata": {},
   "outputs": [],
   "source": [
    "spreadsheet.add_worksheet(title=\"property_list\", rows=50, cols=10)"
   ]
  },
  {
   "cell_type": "code",
   "execution_count": null,
   "metadata": {},
   "outputs": [],
   "source": [
    "set_with_dataframe(spreadsheet.worksheet(\"property_list\"), df, include_index=True)"
   ]
  },
  {
   "cell_type": "code",
   "execution_count": 175,
   "metadata": {},
   "outputs": [],
   "source": [
    "import sqlite3"
   ]
  },
  {
   "cell_type": "code",
   "execution_count": 176,
   "metadata": {},
   "outputs": [
    {
     "data": {
      "text/plain": [
       "450"
      ]
     },
     "execution_count": 176,
     "metadata": {},
     "output_type": "execute_result"
    }
   ],
   "source": [
    "# 新しいテーブルを作成（suumo_properties_list.db）\n",
    "conn = sqlite3.connect('suumo_properties_list.db')\n",
    "# sqlへdf内容を挿入\n",
    "df.to_sql('suumo_properties_list', conn, if_exists='replace', index=False)"
   ]
  }
 ],
 "metadata": {
  "kernelspec": {
   "display_name": "base",
   "language": "python",
   "name": "python3"
  },
  "language_info": {
   "codemirror_mode": {
    "name": "ipython",
    "version": 3
   },
   "file_extension": ".py",
   "mimetype": "text/x-python",
   "name": "python",
   "nbconvert_exporter": "python",
   "pygments_lexer": "ipython3",
   "version": "3.11.4"
  }
 },
 "nbformat": 4,
 "nbformat_minor": 2
}
